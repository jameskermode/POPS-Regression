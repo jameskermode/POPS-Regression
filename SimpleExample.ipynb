{
 "cells": [
  {
   "cell_type": "markdown",
   "metadata": {},
   "source": [
    "## Simple test of `POPSRegression`\n",
    "\n",
    "Usage is very similar to BayesianRidge"
   ]
  },
  {
   "cell_type": "code",
   "execution_count": 1,
   "metadata": {},
   "outputs": [],
   "source": [
    "from POPSRegression import POPSRegression\n",
    "from sklearn.linear_model import BayesianRidge\n",
    "\n",
    "import numpy as np\n",
    "import matplotlib.pyplot as plt\n",
    "from sklearn.preprocessing import PolynomialFeatures"
   ]
  },
  {
   "cell_type": "code",
   "execution_count": 2,
   "metadata": {},
   "outputs": [],
   "source": [
    "def fit_models(N,density=1.0):\n",
    "    f = lambda x: (x**3+ 0.01* x**4)*0.1 + np.sin(x)*x*10. \n",
    "    x_train = np.append(np.random.uniform(-1, 1, N),np.linspace(-1,1,2)) * 10\n",
    "    x_train = np.sort(x_train)\n",
    "    \n",
    "    x_dense = np.linspace(-1.1,1.1,51)* 10\n",
    "    y_dense = f(x_dense)\n",
    "\n",
    "\n",
    "    p = PolynomialFeatures(degree=4, include_bias=True)\n",
    "    X_train = p.fit_transform(x_train.reshape(-1,1))\n",
    "    X_dense = p.fit_transform(x_dense.reshape(-1,1))\n",
    "    y_train = f(x_train)\n",
    "\n",
    "    m = POPSRegression(resampling_method='uniform',fit_intercept=False)\n",
    "    m.fit(X_train,y_train)\n",
    "\n",
    "    y_pred,y_std,y_max,y_min = m.predict(X_dense,return_bounds=True)\n",
    "\n",
    "    b = BayesianRidge(fit_intercept=False)\n",
    "    b.fit(X_train,y_train)\n",
    "    \n",
    "    # extract mean and epistemic uncertainty (no aleatoric!)\n",
    "    b_pred = b.predict(X_dense,return_std=False)\n",
    "    b_std = np.sqrt(np.sum(np.dot(X_dense,b.sigma_)*X_dense,axis=1))\n",
    "    \n",
    "\n",
    "\n",
    "    return X_dense.shape[1],x_dense,y_dense,x_train,y_train,y_pred,y_std,y_max,y_min,b_pred,b_std\n",
    "\n",
    "def plot_panel(ax,x_dense,y_dense,x_train,y_train,y_pred,y_std,y_max,y_min,b_pred,b_std):\n",
    "    ax.fill_between(x_dense,y_pred-3*y_std,y_pred+3*y_std,alpha=0.5,facecolor='C1',label='POPS')\n",
    "    ax.plot(x_dense,y_pred,'C1-',lw=4)\n",
    "\n",
    "    ax.fill_between(x_dense,b_pred-3*b_std,b_pred+3*b_std,alpha=0.5,facecolor='C2',label='Inference')\n",
    "    ax.plot(x_dense,b_pred,'C2-',lw=2)\n",
    "    ax.plot(x_train,y_train,'b.',label='Train')\n",
    "    ax.plot(x_dense,y_dense,'k-',label='Truth')\n",
    "    \n",
    "\n",
    "\n",
    "\n",
    "\n"
   ]
  },
  {
   "cell_type": "code",
   "execution_count": 3,
   "metadata": {},
   "outputs": [
    {
     "ename": "NameError",
     "evalue": "name 'y_pred' is not defined",
     "output_type": "error",
     "traceback": [
      "\u001b[0;31m---------------------------------------------------------------------------\u001b[0m",
      "\u001b[0;31mNameError\u001b[0m                                 Traceback (most recent call last)",
      "Cell \u001b[0;32mIn[3], line 4\u001b[0m\n\u001b[1;32m      1\u001b[0m fig,axs \u001b[38;5;241m=\u001b[39m plt\u001b[38;5;241m.\u001b[39msubplots(\u001b[38;5;241m1\u001b[39m,\u001b[38;5;241m3\u001b[39m,figsize\u001b[38;5;241m=\u001b[39m(\u001b[38;5;241m8\u001b[39m,\u001b[38;5;241m3\u001b[39m),sharex\u001b[38;5;241m=\u001b[39m\u001b[38;5;28;01mTrue\u001b[39;00m,sharey\u001b[38;5;241m=\u001b[39m\u001b[38;5;28;01mTrue\u001b[39;00m)\n\u001b[1;32m      3\u001b[0m \u001b[38;5;28;01mfor\u001b[39;00m i,N \u001b[38;5;129;01min\u001b[39;00m \u001b[38;5;28menumerate\u001b[39m([\u001b[38;5;241m10\u001b[39m,\u001b[38;5;241m50\u001b[39m,\u001b[38;5;241m500\u001b[39m]):\n\u001b[0;32m----> 4\u001b[0m     data \u001b[38;5;241m=\u001b[39m \u001b[43mfit_models\u001b[49m\u001b[43m(\u001b[49m\u001b[43mN\u001b[49m\u001b[43m)\u001b[49m\n\u001b[1;32m      5\u001b[0m     axs[i]\u001b[38;5;241m.\u001b[39mset_title(\u001b[38;5;124mf\u001b[39m\u001b[38;5;124m\"\u001b[39m\u001b[38;5;124mN=\u001b[39m\u001b[38;5;132;01m{\u001b[39;00mN\u001b[38;5;132;01m}\u001b[39;00m\u001b[38;5;124m, P=\u001b[39m\u001b[38;5;132;01m{\u001b[39;00mdata[\u001b[38;5;241m0\u001b[39m]\u001b[38;5;132;01m}\u001b[39;00m\u001b[38;5;124m\"\u001b[39m)\n\u001b[1;32m      6\u001b[0m     plot_panel(axs[i],\u001b[38;5;241m*\u001b[39mdata[\u001b[38;5;241m1\u001b[39m:])\n",
      "Cell \u001b[0;32mIn[2], line 18\u001b[0m, in \u001b[0;36mfit_models\u001b[0;34m(N, density)\u001b[0m\n\u001b[1;32m     15\u001b[0m m \u001b[38;5;241m=\u001b[39m POPSRegression(resampling_method\u001b[38;5;241m=\u001b[39m\u001b[38;5;124m'\u001b[39m\u001b[38;5;124muniform\u001b[39m\u001b[38;5;124m'\u001b[39m,fit_intercept\u001b[38;5;241m=\u001b[39m\u001b[38;5;28;01mFalse\u001b[39;00m)\n\u001b[1;32m     16\u001b[0m m\u001b[38;5;241m.\u001b[39mfit(X_train,y_train)\n\u001b[0;32m---> 18\u001b[0m y_pred,y_std,y_max,y_min \u001b[38;5;241m=\u001b[39m \u001b[43mm\u001b[49m\u001b[38;5;241;43m.\u001b[39;49m\u001b[43mpredict\u001b[49m\u001b[43m(\u001b[49m\u001b[43mX_dense\u001b[49m\u001b[43m,\u001b[49m\u001b[43mreturn_bounds\u001b[49m\u001b[38;5;241;43m=\u001b[39;49m\u001b[38;5;28;43;01mTrue\u001b[39;49;00m\u001b[43m)\u001b[49m\n\u001b[1;32m     20\u001b[0m b \u001b[38;5;241m=\u001b[39m BayesianRidge(fit_intercept\u001b[38;5;241m=\u001b[39m\u001b[38;5;28;01mFalse\u001b[39;00m)\n\u001b[1;32m     21\u001b[0m b\u001b[38;5;241m.\u001b[39mfit(X_train,y_train)\n",
      "File \u001b[0;32m~/Code/AlchemicalMethods/Misspecification-Repos/POPSRegression/POPSRegression/POPSRegression.py:492\u001b[0m, in \u001b[0;36mPOPSRegression.predict\u001b[0;34m(self, X, return_bounds, return_epistemic_std)\u001b[0m\n\u001b[1;32m    487\u001b[0m y_misspecification_var \u001b[38;5;241m=\u001b[39m \\\n\u001b[1;32m    488\u001b[0m     (np\u001b[38;5;241m.\u001b[39mdot(X, \u001b[38;5;28mself\u001b[39m\u001b[38;5;241m.\u001b[39mmisspecification_sigma_) \u001b[38;5;241m*\u001b[39m X)\u001b[38;5;241m.\u001b[39msum(axis\u001b[38;5;241m=\u001b[39m\u001b[38;5;241m1\u001b[39m)\n\u001b[1;32m    490\u001b[0m y_std \u001b[38;5;241m=\u001b[39m np\u001b[38;5;241m.\u001b[39msqrt(y_misspecification_var \u001b[38;5;241m+\u001b[39m y_epistemic_var)\n\u001b[0;32m--> 492\u001b[0m res \u001b[38;5;241m=\u001b[39m [\u001b[43my_pred\u001b[49m, y_std]\n\u001b[1;32m    494\u001b[0m \u001b[38;5;28;01mif\u001b[39;00m return_bounds:\n\u001b[1;32m    495\u001b[0m     y_max \u001b[38;5;241m=\u001b[39m (X\u001b[38;5;129m@self\u001b[39m\u001b[38;5;241m.\u001b[39mhypercube_samples)\u001b[38;5;241m.\u001b[39mmax(\u001b[38;5;241m1\u001b[39m) \u001b[38;5;241m+\u001b[39m y_pred\n",
      "\u001b[0;31mNameError\u001b[0m: name 'y_pred' is not defined"
     ]
    },
    {
     "data": {
      "image/png": "[encoded data removed]",
      "text/plain": [
       "<Figure size 800x300 with 3 Axes>"
      ]
     },
     "metadata": {},
     "output_type": "display_data"
    }
   ],
   "source": [
    "fig,axs = plt.subplots(1,3,figsize=(8,3),sharex=True,sharey=True)\n",
    "\n",
    "for i,N in enumerate([10,50,500]):\n",
    "    data = fit_models(N)\n",
    "    axs[i].set_title(f\"N={N}, P={data[0]}\")\n",
    "    plot_panel(axs[i],*data[1:])\n",
    "    axs[i].set_ylim(-200,200)\n",
    "\n",
    "axs[1].legend()\n",
    "plt.tight_layout()\n",
    "plt.show()\n",
    "plt.savefig(\"example_image.png\");"
   ]
  },
  {
   "cell_type": "code",
   "execution_count": null,
   "metadata": {},
   "outputs": [],
   "source": []
  }
 ],
 "metadata": {
  "kernelspec": {
   "display_name": "jax",
   "language": "python",
   "name": "python3"
  },
  "language_info": {
   "codemirror_mode": {
    "name": "ipython",
    "version": 3
   },
   "file_extension": ".py",
   "mimetype": "text/x-python",
   "name": "python",
   "nbconvert_exporter": "python",
   "pygments_lexer": "ipython3",
   "version": "3.12.6"
  }
 },
 "nbformat": 4,
 "nbformat_minor": 2
}
